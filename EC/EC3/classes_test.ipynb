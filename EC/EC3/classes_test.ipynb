{
 "cells": [
  {
   "cell_type": "code",
   "execution_count": 1,
   "id": "ce2c0e67-bf64-4596-8d38-ee3a0cc8d41b",
   "metadata": {},
   "outputs": [
    {
     "data": {
      "text/plain": [
       "<module '_ecplotting' from 'C:\\\\Users\\\\fes33\\\\Documents\\\\GIK - R&D\\\\Personal - Papers and Reports\\\\19 - Quadratic Model - Code with Classes\\\\EC\\\\EC3\\\\_ecplotting.py'>"
      ]
     },
     "execution_count": 1,
     "metadata": {},
     "output_type": "execute_result"
    }
   ],
   "source": [
    "import _experiments as exp\n",
    "from _experiments import CV, GCD, EIS, QR\n",
    "from importlib import reload\n",
    "import pandas as pd\n",
    "import numpy as np\n",
    "import _ecplotting as ecp\n",
    "import matplotlib.pyplot as plt\n",
    "reload(exp)\n",
    "reload(ecp)"
   ]
  },
  {
   "cell_type": "markdown",
   "id": "19725769-bd52-4845-936d-f55069cb5f52",
   "metadata": {
    "jp-MarkdownHeadingCollapsed": true,
    "tags": []
   },
   "source": [
    "## <font color = '#FF9933'> CV Tests </font>"
   ]
  },
  {
   "cell_type": "code",
   "execution_count": 164,
   "id": "8249092f-c200-4aae-98a0-2050b63132b9",
   "metadata": {},
   "outputs": [],
   "source": [
    "df = pd.read_csv(r'test_data/CV.csv')\n",
    "cv = CV(df, extract_sr = True)"
   ]
  },
  {
   "cell_type": "code",
   "execution_count": 167,
   "id": "8d00bca2-1c7e-4734-8165-fe31599874e6",
   "metadata": {},
   "outputs": [],
   "source": [
    "cv.find_capacity(cv.currents, frac = (0,0.5))\n",
    "cv.find_quad_reg_param()\n",
    "cv.find_quad_cap_diff()\n",
    "cv.find_lin_reg_param()\n",
    "cv.find_lin_cap_diff()"
   ]
  },
  {
   "cell_type": "code",
   "execution_count": 168,
   "id": "88e84548-0aba-4041-bd3c-14e76de9a1d9",
   "metadata": {},
   "outputs": [
    {
     "data": {
      "text/html": [
       "<div>\n",
       "<style scoped>\n",
       "    .dataframe tbody tr th:only-of-type {\n",
       "        vertical-align: middle;\n",
       "    }\n",
       "\n",
       "    .dataframe tbody tr th {\n",
       "        vertical-align: top;\n",
       "    }\n",
       "\n",
       "    .dataframe thead th {\n",
       "        text-align: right;\n",
       "    }\n",
       "</style>\n",
       "<table border=\"1\" class=\"dataframe\">\n",
       "  <thead>\n",
       "    <tr style=\"text-align: right;\">\n",
       "      <th></th>\n",
       "      <th>%Capacitive@3mV/s</th>\n",
       "      <th>%Capacitive@5mV/s</th>\n",
       "      <th>%Capacitive@10mV/s</th>\n",
       "      <th>%Capacitive@20mV/s</th>\n",
       "      <th>%Capacitive@30mV/s</th>\n",
       "      <th>%Capacitive@40mV/s</th>\n",
       "      <th>%Capacitive@50mV/s</th>\n",
       "    </tr>\n",
       "  </thead>\n",
       "  <tbody>\n",
       "    <tr>\n",
       "      <th>0</th>\n",
       "      <td>0.284723</td>\n",
       "      <td>0.330883</td>\n",
       "      <td>0.389897</td>\n",
       "      <td>0.435316</td>\n",
       "      <td>0.451495</td>\n",
       "      <td>0.457255</td>\n",
       "      <td>0.458238</td>\n",
       "    </tr>\n",
       "  </tbody>\n",
       "</table>\n",
       "</div>"
      ],
      "text/plain": [
       "   %Capacitive@3mV/s  %Capacitive@5mV/s  %Capacitive@10mV/s  \\\n",
       "0           0.284723           0.330883            0.389897   \n",
       "\n",
       "   %Capacitive@20mV/s  %Capacitive@30mV/s  %Capacitive@40mV/s  \\\n",
       "0            0.435316            0.451495            0.457255   \n",
       "\n",
       "   %Capacitive@50mV/s  \n",
       "0            0.458238  "
      ]
     },
     "metadata": {},
     "output_type": "display_data"
    },
    {
     "data": {
      "text/html": [
       "<div>\n",
       "<style scoped>\n",
       "    .dataframe tbody tr th:only-of-type {\n",
       "        vertical-align: middle;\n",
       "    }\n",
       "\n",
       "    .dataframe tbody tr th {\n",
       "        vertical-align: top;\n",
       "    }\n",
       "\n",
       "    .dataframe thead th {\n",
       "        text-align: right;\n",
       "    }\n",
       "</style>\n",
       "<table border=\"1\" class=\"dataframe\">\n",
       "  <thead>\n",
       "    <tr style=\"text-align: right;\">\n",
       "      <th></th>\n",
       "      <th>%Capacitive@3mV/s</th>\n",
       "      <th>%Capacitive@5mV/s</th>\n",
       "      <th>%Capacitive@10mV/s</th>\n",
       "      <th>%Capacitive@20mV/s</th>\n",
       "      <th>%Capacitive@30mV/s</th>\n",
       "      <th>%Capacitive@40mV/s</th>\n",
       "      <th>%Capacitive@50mV/s</th>\n",
       "    </tr>\n",
       "  </thead>\n",
       "  <tbody>\n",
       "    <tr>\n",
       "      <th>0</th>\n",
       "      <td>0.137927</td>\n",
       "      <td>0.171192</td>\n",
       "      <td>0.226072</td>\n",
       "      <td>0.292338</td>\n",
       "      <td>0.335966</td>\n",
       "      <td>0.368774</td>\n",
       "      <td>0.395104</td>\n",
       "    </tr>\n",
       "  </tbody>\n",
       "</table>\n",
       "</div>"
      ],
      "text/plain": [
       "   %Capacitive@3mV/s  %Capacitive@5mV/s  %Capacitive@10mV/s  \\\n",
       "0           0.137927           0.171192            0.226072   \n",
       "\n",
       "   %Capacitive@20mV/s  %Capacitive@30mV/s  %Capacitive@40mV/s  \\\n",
       "0            0.292338            0.335966            0.368774   \n",
       "\n",
       "   %Capacitive@50mV/s  \n",
       "0            0.395104  "
      ]
     },
     "metadata": {},
     "output_type": "display_data"
    }
   ],
   "source": [
    "display(cv.find_capacitiveness(frac= (0, 0.5), model = 'Quadratic'))\n",
    "display(cv.find_capacitiveness(frac= (0, 0.5), model = 'Linear'))"
   ]
  },
  {
   "cell_type": "code",
   "execution_count": 185,
   "id": "6c868d25-f9d0-4dc0-92a4-93c9ce9ea209",
   "metadata": {},
   "outputs": [
    {
     "data": {
      "text/plain": [
       "<BarContainer object of 7 artists>"
      ]
     },
     "execution_count": 185,
     "metadata": {},
     "output_type": "execute_result"
    },
    {
     "data": {
      "image/png": "[encoded data removed]",
      "text/plain": [
       "<Figure size 432x288 with 1 Axes>"
      ]
     },
     "metadata": {
      "needs_background": "light"
     },
     "output_type": "display_data"
    }
   ],
   "source": [
    "import seaborn as sns\n",
    "c = cv.find_capacitiveness(frac= (0, 0.5), model = 'Quadratic')\n",
    "c2 = cv.find_capacitiveness(frac= (0, 0.5), model = 'Linear')\n",
    "c3 = pd.concat([c,c2], axis = 0)\n",
    "# #sns.barplot(data = c)\n",
    "barWidth = 1\n",
    "br1 = cv.srates\n",
    "br2 = [x + barWidth for x in br1]\n",
    "\n",
    "plt.bar(br1, c.loc[0].tolist()\n",
    ", color ='r', width = barWidth,\n",
    "        edgecolor ='grey', label ='IT')\n",
    "plt.bar(br2, c2.loc[0].tolist()\n",
    ", color ='g', width = barWidth,\n",
    "        edgecolor ='grey', label ='ECE')"
   ]
  },
  {
   "cell_type": "code",
   "execution_count": null,
   "id": "e0c72ba4-4157-4aa3-8079-94ab1d5f9d15",
   "metadata": {},
   "outputs": [],
   "source": [
    "#cv.find_current_peaks(lookup_in = (0,350), add_offset = True,  width = 1, height = 0.01, rel_height = 1)\n",
    "\n",
    "#dic = {'height': 2, 'aspect': 2.5, 'sharey': True, 'margin_titles':False, 'legend_out':False}\n",
    "cv.find_residuals_at()\n",
    "cv.residuals_at\n",
    "ecp.plotcvresiduals(cv.residuals_at)\n",
    "#plt.legend(bbox_to_anchor=(1.02, 3), frameon = False, ncol = 2)"
   ]
  },
  {
   "cell_type": "code",
   "execution_count": null,
   "id": "46d1134e-b512-45f9-beef-eae0e704016f",
   "metadata": {},
   "outputs": [],
   "source": [
    "fig = plt.gcf()\n",
    "fig.axes"
   ]
  },
  {
   "cell_type": "code",
   "execution_count": null,
   "id": "8ec5a983-65a2-4962-ab96-fcf9b922b8c7",
   "metadata": {},
   "outputs": [],
   "source": [
    "sns.FacetGrid??"
   ]
  },
  {
   "cell_type": "code",
   "execution_count": null,
   "id": "d986a7e3-1350-4b0e-95f0-72382e169045",
   "metadata": {},
   "outputs": [],
   "source": [
    "height = 4\n",
    "#fig, ax = plt.subplots(figsize = (height, height))\n",
    "cv.residuals_at\n",
    "sr_root_lab = r\"$\\mathrm{\\nu^{1/2} \\hspace{0.5} (Vs^{-1})^{1/2}}$\"\n",
    "sr_root_lab = \"sr\"\n",
    "\n",
    "dt = formatted_df = pd.melt(cv.residuals_at,[\"Voltage\", \"Scan\"],var_name=sr_root_lab, value_name=\"Residual\")\n",
    "dt.head(3)"
   ]
  },
  {
   "cell_type": "code",
   "execution_count": null,
   "id": "a29a8ca9-3625-4a68-b4ef-d1a47f9f9402",
   "metadata": {
    "tags": []
   },
   "outputs": [],
   "source": [
    "#____See documentation for available styles____\n",
    "# https://matplotlib.org/2.0.2/api/lines_api.html\n",
    "col_nature_intense = ['#E64B35FF', '#4DBBD5FF', '#00A087FF', '#3C5488FF', '#F39B7FFF', '#8491B4FF', '#91D1C2FF', '#DC0000FF', '#7E6148FF', '#B09C85FF']\n",
    "col_mathematica_default = ['#5E81B5', '#E19C24', '#8FB131', '#EC6235', '#8778B3']\n",
    "styles = ['retro', 'seaborn-paper', 'seaborn-poster', 'grayscale', 'vibrant', 'seaborn-colorblind']\n",
    "\n",
    "\n",
    "#linestyles = ['-']*len(col_nature_intense)\n",
    "linestyles = ['-', '-.', ':', '--']\n",
    "markerstyles = ['o', '+', 'x', '*']\n",
    "colorstyles = col_nature_intense[0:4]\n",
    "\n",
    "cycler = plt.cycler(linestyle=linestyles,\n",
    "                    color = colorstyles,\n",
    "                    #marker= markerstyles,\n",
    "                    \n",
    "                   )\n",
    "\n",
    "#____To use styles____\n",
    "styles = ['retro', 'seaborn-paper', 'seaborn-poster', 'grayscale', 'vibrant', 'seaborn-colorblind']\n",
    "plt.style.use('seaborn-poster')\n",
    "#print(plt.style.available)"
   ]
  },
  {
   "cell_type": "code",
   "execution_count": null,
   "id": "96a538d1-a343-40c9-a089-e3c83fb298e5",
   "metadata": {
    "tags": []
   },
   "outputs": [],
   "source": [
    "legend_style = dict(frameon = False, loc = 2, prop = {'size':10}, ncol = 1)\n",
    "marker_style = dict(marker='.', \n",
    "                    linestyle='--', \n",
    "                    color = 'brown',\n",
    "                    markersize=1,\n",
    "                    markeredgecolor=\"brown\", \n",
    "                    mew=1,\n",
    "                    #color='brown', \n",
    "                    markerfacecolor='white', \n",
    "                    fillstyle = 'full', \n",
    "                    #markerfacecoloralt='white',\n",
    "                            )"
   ]
  },
  {
   "cell_type": "code",
   "execution_count": null,
   "id": "42d6bba5-73cc-460c-9293-3c9f49c1330d",
   "metadata": {
    "tags": []
   },
   "outputs": [],
   "source": [
    "#other = {'set_aspect': 4}\n",
    "\n",
    "fig, ax0 = plt.subplots(figsize = (height, height))\n",
    "#ax0.set_aspect(1)\n",
    "ecp.plotcv(ax0, cv.voltages,cv.currents,  ylim = [-0.06, 0.06],\n",
    "           legend = cv.cv_legend,  \n",
    "           cycler=cycler, \n",
    "           legend_dic = legend_style, \n",
    "           #marker_dic = marker_style,\n",
    "       #**other\n",
    "          )"
   ]
  },
  {
   "cell_type": "markdown",
   "id": "3fcedc98-d3fa-4f2a-9299-9f7729b63534",
   "metadata": {
    "tags": []
   },
   "source": [
    "## <font color = '#FF9933'> GCD Tests </font>"
   ]
  },
  {
   "cell_type": "code",
   "execution_count": null,
   "id": "cf534ef8-6915-4045-919f-3f5382bde40b",
   "metadata": {},
   "outputs": [],
   "source": [
    "df_gcd = pd.read_csv(r'test_data/GCD.csv')\n",
    "#gcd = GCD(df_gcd, extract_sp_curr = True)"
   ]
  },
  {
   "cell_type": "markdown",
   "id": "b69c726d-e4f2-49bc-8b25-c8be4cdafb39",
   "metadata": {
    "jp-MarkdownHeadingCollapsed": true,
    "tags": []
   },
   "source": [
    "### <font color = '#FF9933'> GCD Tests - Basic </font>"
   ]
  },
  {
   "cell_type": "code",
   "execution_count": null,
   "id": "04bc8196-7afe-43a1-9c20-dc32906dbd5b",
   "metadata": {},
   "outputs": [],
   "source": [
    "gcd.voltages"
   ]
  },
  {
   "cell_type": "code",
   "execution_count": null,
   "id": "657709ac-c1d4-4b67-b3df-4b49ca0fc8b4",
   "metadata": {},
   "outputs": [],
   "source": [
    "gcd.times"
   ]
  },
  {
   "cell_type": "code",
   "execution_count": null,
   "id": "a4f1560f-354e-458a-9554-e7488c0471a5",
   "metadata": {},
   "outputs": [],
   "source": [
    "gcd.find_discharge_voltages()\n",
    "a = gcd.discharge_voltages\n",
    "a\n",
    "#a[~np.isnan(a).all(axis=1)]"
   ]
  },
  {
   "cell_type": "code",
   "execution_count": null,
   "id": "d3236816-554d-4af4-b2aa-ebec129495bf",
   "metadata": {},
   "outputs": [],
   "source": []
  },
  {
   "cell_type": "code",
   "execution_count": null,
   "id": "dfe6b865-6dc1-490e-979e-7e868f00a644",
   "metadata": {},
   "outputs": [],
   "source": [
    "#other = {'set_aspect': 1}\n",
    "height = 4\n",
    "fig, ax0 = plt.subplots(figsize=(2*height, height))\n",
    "#ax0.set_aspect(1)\n",
    "legend_style = dict(frameon = False, loc = 1, prop = {'size':10}, ncol = 1)\n",
    "marker_style = dict(marker='.', \n",
    "                    linestyle='--', \n",
    "                    color = 'brown',\n",
    "                    markersize=1,\n",
    "                    markeredgecolor=\"brown\", \n",
    "                    mew=1,\n",
    "                    #color='brown', \n",
    "                    markerfacecolor='white', \n",
    "                    fillstyle = 'full', \n",
    "                    #markerfacecoloralt='white',\n",
    "                            )\n",
    "\n",
    "ecp.plotgcd(ax0, gcd.times,gcd.voltages,  ylim = [0, 0.7], xlim = [0, 200],\n",
    "           legend = gcd.gcd_legend,  \n",
    "           cycler=cycler, \n",
    "           legend_dic = legend_style, \n",
    "           #marker_dic = marker_style,\n",
    "       #**other\n",
    "           )"
   ]
  },
  {
   "cell_type": "code",
   "execution_count": null,
   "id": "1a088204-7ccd-4733-80cf-57fba16ec7bd",
   "metadata": {},
   "outputs": [],
   "source": [
    "fig, ax0 = plt.subplots(figsize=(height*2, 1 *height))\n",
    "ecp.plotgcd(ax0, gcd.times,gcd.voltages,  ylim = [0, 0.7], xlim = [0, 600],\n",
    "           legend = gcd.gcd_legend,  \n",
    "           cycler=cycler, \n",
    "           legend_dic = legend_style, \n",
    "           #marker_dic = marker_style,\n",
    "       #**other\n",
    "           )"
   ]
  },
  {
   "cell_type": "markdown",
   "id": "d38eaa04-e84b-419d-93c4-265a69e42b7a",
   "metadata": {
    "tags": []
   },
   "source": [
    "### <font color = '#FF9933'> GCD Tests - Fractional Time and Logit Fitting </font>"
   ]
  },
  {
   "cell_type": "code",
   "execution_count": 5,
   "id": "dbfededd-1450-46dd-9141-cbd684672dca",
   "metadata": {},
   "outputs": [
    {
     "data": {
      "text/html": [
       "<div>\n",
       "<style scoped>\n",
       "    .dataframe tbody tr th:only-of-type {\n",
       "        vertical-align: middle;\n",
       "    }\n",
       "\n",
       "    .dataframe tbody tr th {\n",
       "        vertical-align: top;\n",
       "    }\n",
       "\n",
       "    .dataframe thead th {\n",
       "        text-align: right;\n",
       "    }\n",
       "</style>\n",
       "<table border=\"1\" class=\"dataframe\">\n",
       "  <thead>\n",
       "    <tr style=\"text-align: right;\">\n",
       "      <th></th>\n",
       "      <th>0</th>\n",
       "      <th>1</th>\n",
       "      <th>2</th>\n",
       "      <th>3</th>\n",
       "      <th>4</th>\n",
       "      <th>5</th>\n",
       "      <th>6</th>\n",
       "      <th>7</th>\n",
       "      <th>8</th>\n",
       "      <th>9</th>\n",
       "      <th>...</th>\n",
       "      <th>159</th>\n",
       "      <th>160</th>\n",
       "      <th>161</th>\n",
       "      <th>162</th>\n",
       "      <th>163</th>\n",
       "      <th>164</th>\n",
       "      <th>165</th>\n",
       "      <th>166</th>\n",
       "      <th>167</th>\n",
       "      <th>168</th>\n",
       "    </tr>\n",
       "  </thead>\n",
       "  <tbody>\n",
       "    <tr>\n",
       "      <th>0</th>\n",
       "      <td>EXPLAIN</td>\n",
       "      <td>NaN</td>\n",
       "      <td>NaN</td>\n",
       "      <td>NaN</td>\n",
       "      <td>NaN</td>\n",
       "      <td>NaN</td>\n",
       "      <td>NaN</td>\n",
       "      <td>NaN</td>\n",
       "      <td>NaN</td>\n",
       "      <td>NaN</td>\n",
       "      <td>...</td>\n",
       "      <td>NaN</td>\n",
       "      <td>NaN</td>\n",
       "      <td>NaN</td>\n",
       "      <td>NaN</td>\n",
       "      <td>NaN</td>\n",
       "      <td>NaN</td>\n",
       "      <td>NaN</td>\n",
       "      <td>NaN</td>\n",
       "      <td>NaN</td>\n",
       "      <td>NaN</td>\n",
       "    </tr>\n",
       "    <tr>\n",
       "      <th>1</th>\n",
       "      <td>TAG</td>\n",
       "      <td>PWR800_CYCLICCHARGEDISCHARGE</td>\n",
       "      <td>NaN</td>\n",
       "      <td>NaN</td>\n",
       "      <td>NaN</td>\n",
       "      <td>NaN</td>\n",
       "      <td>NaN</td>\n",
       "      <td>NaN</td>\n",
       "      <td>NaN</td>\n",
       "      <td>NaN</td>\n",
       "      <td>...</td>\n",
       "      <td>NaN</td>\n",
       "      <td>NaN</td>\n",
       "      <td>NaN</td>\n",
       "      <td>NaN</td>\n",
       "      <td>NaN</td>\n",
       "      <td>NaN</td>\n",
       "      <td>NaN</td>\n",
       "      <td>NaN</td>\n",
       "      <td>NaN</td>\n",
       "      <td>NaN</td>\n",
       "    </tr>\n",
       "    <tr>\n",
       "      <th>2</th>\n",
       "      <td>TITLE</td>\n",
       "      <td>LABEL</td>\n",
       "      <td>PWR Cyclic Charge Discharge</td>\n",
       "      <td>Test &amp;Identifier</td>\n",
       "      <td>NaN</td>\n",
       "      <td>NaN</td>\n",
       "      <td>NaN</td>\n",
       "      <td>NaN</td>\n",
       "      <td>NaN</td>\n",
       "      <td>NaN</td>\n",
       "      <td>...</td>\n",
       "      <td>Test &amp;Identifier</td>\n",
       "      <td>NaN</td>\n",
       "      <td>NaN</td>\n",
       "      <td>NaN</td>\n",
       "      <td>NaN</td>\n",
       "      <td>NaN</td>\n",
       "      <td>NaN</td>\n",
       "      <td>NaN</td>\n",
       "      <td>NaN</td>\n",
       "      <td>NaN</td>\n",
       "    </tr>\n",
       "    <tr>\n",
       "      <th>3</th>\n",
       "      <td>DATE</td>\n",
       "      <td>LABEL</td>\n",
       "      <td>44643</td>\n",
       "      <td>Date</td>\n",
       "      <td>NaN</td>\n",
       "      <td>NaN</td>\n",
       "      <td>NaN</td>\n",
       "      <td>NaN</td>\n",
       "      <td>NaN</td>\n",
       "      <td>NaN</td>\n",
       "      <td>...</td>\n",
       "      <td>Date</td>\n",
       "      <td>NaN</td>\n",
       "      <td>NaN</td>\n",
       "      <td>NaN</td>\n",
       "      <td>NaN</td>\n",
       "      <td>NaN</td>\n",
       "      <td>NaN</td>\n",
       "      <td>NaN</td>\n",
       "      <td>NaN</td>\n",
       "      <td>NaN</td>\n",
       "    </tr>\n",
       "    <tr>\n",
       "      <th>4</th>\n",
       "      <td>TIME</td>\n",
       "      <td>LABEL</td>\n",
       "      <td>0.752674</td>\n",
       "      <td>Time</td>\n",
       "      <td>NaN</td>\n",
       "      <td>NaN</td>\n",
       "      <td>NaN</td>\n",
       "      <td>NaN</td>\n",
       "      <td>NaN</td>\n",
       "      <td>NaN</td>\n",
       "      <td>...</td>\n",
       "      <td>Time</td>\n",
       "      <td>NaN</td>\n",
       "      <td>NaN</td>\n",
       "      <td>NaN</td>\n",
       "      <td>NaN</td>\n",
       "      <td>NaN</td>\n",
       "      <td>NaN</td>\n",
       "      <td>NaN</td>\n",
       "      <td>NaN</td>\n",
       "      <td>NaN</td>\n",
       "    </tr>\n",
       "    <tr>\n",
       "      <th>...</th>\n",
       "      <td>...</td>\n",
       "      <td>...</td>\n",
       "      <td>...</td>\n",
       "      <td>...</td>\n",
       "      <td>...</td>\n",
       "      <td>...</td>\n",
       "      <td>...</td>\n",
       "      <td>...</td>\n",
       "      <td>...</td>\n",
       "      <td>...</td>\n",
       "      <td>...</td>\n",
       "      <td>...</td>\n",
       "      <td>...</td>\n",
       "      <td>...</td>\n",
       "      <td>...</td>\n",
       "      <td>...</td>\n",
       "      <td>...</td>\n",
       "      <td>...</td>\n",
       "      <td>...</td>\n",
       "      <td>...</td>\n",
       "      <td>...</td>\n",
       "    </tr>\n",
       "    <tr>\n",
       "      <th>14726</th>\n",
       "      <td>NaN</td>\n",
       "      <td>NaN</td>\n",
       "      <td>5964</td>\n",
       "      <td>298.25</td>\n",
       "      <td>0.015418</td>\n",
       "      <td>-0.000502</td>\n",
       "      <td>0</td>\n",
       "      <td>-0.000008</td>\n",
       "      <td>-0.4984</td>\n",
       "      <td>-0.002158</td>\n",
       "      <td>...</td>\n",
       "      <td>NaN</td>\n",
       "      <td>NaN</td>\n",
       "      <td>NaN</td>\n",
       "      <td>NaN</td>\n",
       "      <td>NaN</td>\n",
       "      <td>NaN</td>\n",
       "      <td>NaN</td>\n",
       "      <td>NaN</td>\n",
       "      <td>NaN</td>\n",
       "      <td>NaN</td>\n",
       "    </tr>\n",
       "    <tr>\n",
       "      <th>14727</th>\n",
       "      <td>NaN</td>\n",
       "      <td>NaN</td>\n",
       "      <td>5965</td>\n",
       "      <td>298.3</td>\n",
       "      <td>0.013575</td>\n",
       "      <td>-0.000502</td>\n",
       "      <td>0</td>\n",
       "      <td>-0.000007</td>\n",
       "      <td>-0.4984</td>\n",
       "      <td>-0.002153</td>\n",
       "      <td>...</td>\n",
       "      <td>NaN</td>\n",
       "      <td>NaN</td>\n",
       "      <td>NaN</td>\n",
       "      <td>NaN</td>\n",
       "      <td>NaN</td>\n",
       "      <td>NaN</td>\n",
       "      <td>NaN</td>\n",
       "      <td>NaN</td>\n",
       "      <td>NaN</td>\n",
       "      <td>NaN</td>\n",
       "    </tr>\n",
       "    <tr>\n",
       "      <th>14728</th>\n",
       "      <td>NaN</td>\n",
       "      <td>NaN</td>\n",
       "      <td>5966</td>\n",
       "      <td>298.35</td>\n",
       "      <td>0.011743</td>\n",
       "      <td>-0.000502</td>\n",
       "      <td>0</td>\n",
       "      <td>-0.000006</td>\n",
       "      <td>-0.4984</td>\n",
       "      <td>-0.002151</td>\n",
       "      <td>...</td>\n",
       "      <td>NaN</td>\n",
       "      <td>NaN</td>\n",
       "      <td>NaN</td>\n",
       "      <td>NaN</td>\n",
       "      <td>NaN</td>\n",
       "      <td>NaN</td>\n",
       "      <td>NaN</td>\n",
       "      <td>NaN</td>\n",
       "      <td>NaN</td>\n",
       "      <td>NaN</td>\n",
       "    </tr>\n",
       "    <tr>\n",
       "      <th>14729</th>\n",
       "      <td>NaN</td>\n",
       "      <td>NaN</td>\n",
       "      <td>5967</td>\n",
       "      <td>298.375</td>\n",
       "      <td>0.010346</td>\n",
       "      <td>-0.000502</td>\n",
       "      <td>0</td>\n",
       "      <td>-0.000005</td>\n",
       "      <td>-0.4984</td>\n",
       "      <td>-0.002149</td>\n",
       "      <td>...</td>\n",
       "      <td>NaN</td>\n",
       "      <td>NaN</td>\n",
       "      <td>NaN</td>\n",
       "      <td>NaN</td>\n",
       "      <td>NaN</td>\n",
       "      <td>NaN</td>\n",
       "      <td>NaN</td>\n",
       "      <td>NaN</td>\n",
       "      <td>NaN</td>\n",
       "      <td>NaN</td>\n",
       "    </tr>\n",
       "    <tr>\n",
       "      <th>14730</th>\n",
       "      <td>NaN</td>\n",
       "      <td>STARTTIMEOFFSET</td>\n",
       "      <td>QUANT</td>\n",
       "      <td>428.3467</td>\n",
       "      <td>Start Time Offset (s)</td>\n",
       "      <td>NaN</td>\n",
       "      <td>NaN</td>\n",
       "      <td>NaN</td>\n",
       "      <td>NaN</td>\n",
       "      <td>NaN</td>\n",
       "      <td>...</td>\n",
       "      <td>NaN</td>\n",
       "      <td>NaN</td>\n",
       "      <td>NaN</td>\n",
       "      <td>NaN</td>\n",
       "      <td>NaN</td>\n",
       "      <td>NaN</td>\n",
       "      <td>NaN</td>\n",
       "      <td>NaN</td>\n",
       "      <td>NaN</td>\n",
       "      <td>NaN</td>\n",
       "    </tr>\n",
       "  </tbody>\n",
       "</table>\n",
       "<p>14731 rows × 169 columns</p>\n",
       "</div>"
      ],
      "text/plain": [
       "           0                             1                            2    \\\n",
       "0      EXPLAIN                           NaN                          NaN   \n",
       "1          TAG  PWR800_CYCLICCHARGEDISCHARGE                          NaN   \n",
       "2        TITLE                         LABEL  PWR Cyclic Charge Discharge   \n",
       "3         DATE                         LABEL                        44643   \n",
       "4         TIME                         LABEL                     0.752674   \n",
       "...        ...                           ...                          ...   \n",
       "14726      NaN                           NaN                         5964   \n",
       "14727      NaN                           NaN                         5965   \n",
       "14728      NaN                           NaN                         5966   \n",
       "14729      NaN                           NaN                         5967   \n",
       "14730      NaN               STARTTIMEOFFSET                        QUANT   \n",
       "\n",
       "                    3                      4         5    6         7    \\\n",
       "0                   NaN                    NaN       NaN  NaN       NaN   \n",
       "1                   NaN                    NaN       NaN  NaN       NaN   \n",
       "2      Test &Identifier                    NaN       NaN  NaN       NaN   \n",
       "3                  Date                    NaN       NaN  NaN       NaN   \n",
       "4                  Time                    NaN       NaN  NaN       NaN   \n",
       "...                 ...                    ...       ...  ...       ...   \n",
       "14726            298.25               0.015418 -0.000502    0 -0.000008   \n",
       "14727             298.3               0.013575 -0.000502    0 -0.000007   \n",
       "14728            298.35               0.011743 -0.000502    0 -0.000006   \n",
       "14729           298.375               0.010346 -0.000502    0 -0.000005   \n",
       "14730          428.3467  Start Time Offset (s)       NaN  NaN       NaN   \n",
       "\n",
       "          8         9    ...               159  160  161  162  163  164  165  \\\n",
       "0         NaN       NaN  ...               NaN  NaN  NaN  NaN  NaN  NaN  NaN   \n",
       "1         NaN       NaN  ...               NaN  NaN  NaN  NaN  NaN  NaN  NaN   \n",
       "2         NaN       NaN  ...  Test &Identifier  NaN  NaN  NaN  NaN  NaN  NaN   \n",
       "3         NaN       NaN  ...              Date  NaN  NaN  NaN  NaN  NaN  NaN   \n",
       "4         NaN       NaN  ...              Time  NaN  NaN  NaN  NaN  NaN  NaN   \n",
       "...       ...       ...  ...               ...  ...  ...  ...  ...  ...  ...   \n",
       "14726 -0.4984 -0.002158  ...               NaN  NaN  NaN  NaN  NaN  NaN  NaN   \n",
       "14727 -0.4984 -0.002153  ...               NaN  NaN  NaN  NaN  NaN  NaN  NaN   \n",
       "14728 -0.4984 -0.002151  ...               NaN  NaN  NaN  NaN  NaN  NaN  NaN   \n",
       "14729 -0.4984 -0.002149  ...               NaN  NaN  NaN  NaN  NaN  NaN  NaN   \n",
       "14730     NaN       NaN  ...               NaN  NaN  NaN  NaN  NaN  NaN  NaN   \n",
       "\n",
       "       166  167  168  \n",
       "0      NaN  NaN  NaN  \n",
       "1      NaN  NaN  NaN  \n",
       "2      NaN  NaN  NaN  \n",
       "3      NaN  NaN  NaN  \n",
       "4      NaN  NaN  NaN  \n",
       "...    ...  ...  ...  \n",
       "14726  NaN  NaN  NaN  \n",
       "14727  NaN  NaN  NaN  \n",
       "14728  NaN  NaN  NaN  \n",
       "14729  NaN  NaN  NaN  \n",
       "14730  NaN  NaN  NaN  \n",
       "\n",
       "[14731 rows x 169 columns]"
      ]
     },
     "execution_count": 5,
     "metadata": {},
     "output_type": "execute_result"
    }
   ],
   "source": [
    "file_path = r\"C:\\Users\\fes33\\Documents\\GIK - R&D\\Personal - Papers and Reports\\19 - Quadratic Model - Code with Classes\\Data - Gamry Files\\MOFs\\EC Porridge - HKUST.xlsb\"\n",
    "file_path = r\"C:\\Users\\fes33\\Documents\\GIK - R&D\\Personal - Papers and Reports\\19 - Quadratic Model - Code with Classes\\Data - Gamry Files\\MOFs\\EC Porridge - LiCuMOF.xlsb\"\n",
    "df_gcd = pd.read_excel(file_path, engine = 'pyxlsb', sheet_name = 'GCDData(Raw)', header = None)\n",
    "df_gcd"
   ]
  },
  {
   "cell_type": "code",
   "execution_count": 6,
   "id": "cc087dee-68a7-43fa-95a8-b6f0172e9469",
   "metadata": {},
   "outputs": [],
   "source": [
    "gcd = GCD()"
   ]
  },
  {
   "cell_type": "code",
   "execution_count": null,
   "id": "0164cfbc-762f-4330-b7ce-dd4d9c005cf9",
   "metadata": {},
   "outputs": [],
   "source": [
    "gcd.from_porridge_RAW(df_gcd)\n",
    "display(gcd.cycle_times)\n",
    "display(gcd.currents)"
   ]
  },
  {
   "cell_type": "code",
   "execution_count": 116,
   "id": "598584e2-20b2-4f24-af4b-ff69f17e7ef0",
   "metadata": {},
   "outputs": [
    {
     "name": "stdout",
     "output_type": "stream",
     "text": [
      "[ 0.15220785 -4.46790272]\n"
     ]
    },
    {
     "data": {
      "text/plain": [
       "[<matplotlib.lines.Line2D at 0x1fa16eaa1f0>]"
      ]
     },
     "execution_count": 116,
     "metadata": {},
     "output_type": "execute_result"
    },
    {
     "data": {
      "image/png": "[encoded data removed]",
      "text/plain": [
       "<Figure size 432x288 with 1 Axes>"
      ]
     },
     "metadata": {
      "needs_background": "light"
     },
     "output_type": "display_data"
    }
   ],
   "source": [
    "plt.scatter(gcd.currents, gcd.cycle_times.loc['Charging'])\n",
    "plt.scatter(gcd.currents, gcd.cycle_times.loc['Discharging'])\n",
    "\n",
    "x = gcd.currents\n",
    "y =  gcd.cycle_times.loc['Discharging']\n",
    "\n",
    "par = np.polyfit((1/x) ,y, 1)\n",
    "print(par)\n",
    "plt.plot(x, par[0]*1/x + par[1])\n",
    "\n"
   ]
  },
  {
   "cell_type": "code",
   "execution_count": 126,
   "id": "f82e72c2-6b25-4924-ab9f-0b839ed2918b",
   "metadata": {},
   "outputs": [
    {
     "name": "stdout",
     "output_type": "stream",
     "text": [
      "1\n"
     ]
    }
   ],
   "source": [
    "\n",
    "if not False:\n",
    "    print(1)"
   ]
  },
  {
   "cell_type": "code",
   "execution_count": 77,
   "id": "57d6e3b7-f4ed-43e5-a1bd-15b56f56025d",
   "metadata": {},
   "outputs": [
    {
     "data": {
      "image/png": "[encoded data removed]",
      "text/plain": [
       "<Figure size 432x288 with 1 Axes>"
      ]
     },
     "metadata": {
      "needs_background": "light"
     },
     "output_type": "display_data"
    },
    {
     "data": {
      "image/png": "[encoded data removed]",
      "text/plain": [
       "<Figure size 432x288 with 1 Axes>"
      ]
     },
     "metadata": {
      "needs_background": "light"
     },
     "output_type": "display_data"
    }
   ],
   "source": [
    "f_ch = np.array(gcd.charging_stretched.filter(regex = '^Vf'))\n",
    "f_dis = np.array(gcd.discharging_stretched.filter(regex = '^Vf'))\n",
    "t_ch = np.array(gcd.charging_stretched.iloc[:, 0])\n",
    "t_dis = np.array(gcd.discharging_stretched.iloc[:, 0])\n",
    "plt.plot(t_ch, f_ch)\n",
    "plt.show()\n",
    "plt.plot(t_dis, f_dis)\n",
    "plt.show()\n"
   ]
  },
  {
   "cell_type": "code",
   "execution_count": 118,
   "id": "fd84d758-2b0a-4db6-9fa5-65535f829fae",
   "metadata": {},
   "outputs": [
    {
     "data": {
      "text/plain": [
       "[<matplotlib.lines.Line2D at 0x1fa17506760>]"
      ]
     },
     "execution_count": 118,
     "metadata": {},
     "output_type": "execute_result"
    },
    {
     "data": {
      "image/png": "[encoded data removed]",
      "text/plain": [
       "<Figure size 432x288 with 1 Axes>"
      ]
     },
     "metadata": {
      "needs_background": "light"
     },
     "output_type": "display_data"
    }
   ],
   "source": [
    "\n",
    "x = np.array(gcd.discharging_stretched.iloc[:, 0])\n",
    "y = gcd.discharging_stretched.filter(regex = '^Vf').iloc[:,0]\n",
    "y = np.array(y)\n",
    "\n",
    "x = x[:-1]\n",
    "y= y[:-1]\n",
    "par = np.polyfit(np.log((x)/(1-x)) , y, 1)\n",
    "\n",
    "plt.plot(x, par[0] * np.log((x)/(1-x)) + par[1])\n",
    "plt.plot(x,y)"
   ]
  },
  {
   "cell_type": "markdown",
   "id": "998db253-07a4-49b0-b225-5f757f95a316",
   "metadata": {},
   "source": [
    "<font size = 4 color = #C39999> <i> Conclusion of the above: </i>\n",
    " For LiCuMOF the discharge times follow a $$t_{dis} = \\frac{a}{i} + b$$ where as the voltages and discharge times are related by: $$V_f = ln(\\frac{\\frac{t}{t_{dis}}}{1-\\frac{t}{t_{dis}}})$$"
   ]
  },
  {
   "cell_type": "code",
   "execution_count": null,
   "id": "97430b82-db6d-4f49-b0e4-300e1f4b7866",
   "metadata": {},
   "outputs": [],
   "source": [
    "y_str = [str(item) for item in y]\n",
    "my_string = ','.join(list(y_str))"
   ]
  },
  {
   "cell_type": "code",
   "execution_count": 75,
   "id": "1708a89c-46f2-4e18-a880-94d08ff5e816",
   "metadata": {},
   "outputs": [],
   "source": [
    "from pandas.io import clipboard\n",
    "clipboard.copy(my_string)"
   ]
  },
  {
   "cell_type": "code",
   "execution_count": 69,
   "id": "06fb5162-f2a9-40d6-8f91-3198c708f273",
   "metadata": {},
   "outputs": [],
   "source": [
    "x_str = [str(item) for item in x]\n",
    "my_string = ','.join(list(x_str))\n",
    "from pandas.io import clipboard\n",
    "clipboard.copy(my_string)"
   ]
  },
  {
   "cell_type": "code",
   "execution_count": 76,
   "id": "2ac5c093-639e-44da-ab7b-2c520ac4eb42",
   "metadata": {},
   "outputs": [
    {
     "data": {
      "text/html": [
       "<div>\n",
       "<style scoped>\n",
       "    .dataframe tbody tr th:only-of-type {\n",
       "        vertical-align: middle;\n",
       "    }\n",
       "\n",
       "    .dataframe tbody tr th {\n",
       "        vertical-align: top;\n",
       "    }\n",
       "\n",
       "    .dataframe thead th {\n",
       "        text-align: right;\n",
       "    }\n",
       "</style>\n",
       "<table border=\"1\" class=\"dataframe\">\n",
       "  <thead>\n",
       "    <tr style=\"text-align: right;\">\n",
       "      <th></th>\n",
       "      <th>T0.0005</th>\n",
       "      <th>Vf0.0005</th>\n",
       "      <th>T0.001</th>\n",
       "      <th>Vf0.001</th>\n",
       "      <th>T0.0015</th>\n",
       "      <th>Vf0.0015</th>\n",
       "      <th>T0.002</th>\n",
       "      <th>Vf0.002</th>\n",
       "      <th>T0.0025</th>\n",
       "      <th>Vf0.0025</th>\n",
       "      <th>...</th>\n",
       "      <th>T0.005</th>\n",
       "      <th>Vf0.005</th>\n",
       "      <th>T0.006</th>\n",
       "      <th>Vf0.006</th>\n",
       "      <th>T0.0075</th>\n",
       "      <th>Vf0.0075</th>\n",
       "      <th>T0.009</th>\n",
       "      <th>Vf0.009</th>\n",
       "      <th>T0.01</th>\n",
       "      <th>Vf0.01</th>\n",
       "    </tr>\n",
       "  </thead>\n",
       "  <tbody>\n",
       "    <tr>\n",
       "      <th>0</th>\n",
       "      <td>0.000168</td>\n",
       "      <td>0.596682</td>\n",
       "      <td>0.000337</td>\n",
       "      <td>0.593692</td>\n",
       "      <td>0.000504</td>\n",
       "      <td>0.591560</td>\n",
       "      <td>0.000678</td>\n",
       "      <td>0.588229</td>\n",
       "      <td>0.000864</td>\n",
       "      <td>0.585620</td>\n",
       "      <td>...</td>\n",
       "      <td>0.001987</td>\n",
       "      <td>0.572240</td>\n",
       "      <td>0.002495</td>\n",
       "      <td>0.566950</td>\n",
       "      <td>0.003359</td>\n",
       "      <td>0.558938</td>\n",
       "      <td>0.004304</td>\n",
       "      <td>0.551740</td>\n",
       "      <td>0.004998</td>\n",
       "      <td>0.545902</td>\n",
       "    </tr>\n",
       "    <tr>\n",
       "      <th>1</th>\n",
       "      <td>0.000335</td>\n",
       "      <td>0.596048</td>\n",
       "      <td>0.000505</td>\n",
       "      <td>0.593119</td>\n",
       "      <td>0.000672</td>\n",
       "      <td>0.591023</td>\n",
       "      <td>0.000848</td>\n",
       "      <td>0.587705</td>\n",
       "      <td>0.001037</td>\n",
       "      <td>0.585103</td>\n",
       "      <td>...</td>\n",
       "      <td>0.002153</td>\n",
       "      <td>0.571828</td>\n",
       "      <td>0.002662</td>\n",
       "      <td>0.566565</td>\n",
       "      <td>0.003527</td>\n",
       "      <td>0.558584</td>\n",
       "      <td>0.004469</td>\n",
       "      <td>0.551423</td>\n",
       "      <td>0.005164</td>\n",
       "      <td>0.545604</td>\n",
       "    </tr>\n",
       "    <tr>\n",
       "      <th>2</th>\n",
       "      <td>0.000503</td>\n",
       "      <td>0.595473</td>\n",
       "      <td>0.000673</td>\n",
       "      <td>0.592546</td>\n",
       "      <td>0.000840</td>\n",
       "      <td>0.590486</td>\n",
       "      <td>0.001018</td>\n",
       "      <td>0.587182</td>\n",
       "      <td>0.001210</td>\n",
       "      <td>0.584586</td>\n",
       "      <td>...</td>\n",
       "      <td>0.002319</td>\n",
       "      <td>0.571415</td>\n",
       "      <td>0.002828</td>\n",
       "      <td>0.566179</td>\n",
       "      <td>0.003695</td>\n",
       "      <td>0.558230</td>\n",
       "      <td>0.004635</td>\n",
       "      <td>0.551106</td>\n",
       "      <td>0.005331</td>\n",
       "      <td>0.545306</td>\n",
       "    </tr>\n",
       "    <tr>\n",
       "      <th>3</th>\n",
       "      <td>0.000670</td>\n",
       "      <td>0.594941</td>\n",
       "      <td>0.000842</td>\n",
       "      <td>0.592045</td>\n",
       "      <td>0.001007</td>\n",
       "      <td>0.589949</td>\n",
       "      <td>0.001187</td>\n",
       "      <td>0.586658</td>\n",
       "      <td>0.001382</td>\n",
       "      <td>0.584070</td>\n",
       "      <td>...</td>\n",
       "      <td>0.002484</td>\n",
       "      <td>0.571003</td>\n",
       "      <td>0.002995</td>\n",
       "      <td>0.565794</td>\n",
       "      <td>0.003863</td>\n",
       "      <td>0.557876</td>\n",
       "      <td>0.004800</td>\n",
       "      <td>0.550789</td>\n",
       "      <td>0.005497</td>\n",
       "      <td>0.545008</td>\n",
       "    </tr>\n",
       "    <tr>\n",
       "      <th>4</th>\n",
       "      <td>0.000838</td>\n",
       "      <td>0.594460</td>\n",
       "      <td>0.001010</td>\n",
       "      <td>0.591544</td>\n",
       "      <td>0.001175</td>\n",
       "      <td>0.589470</td>\n",
       "      <td>0.001357</td>\n",
       "      <td>0.586135</td>\n",
       "      <td>0.001555</td>\n",
       "      <td>0.583553</td>\n",
       "      <td>...</td>\n",
       "      <td>0.002650</td>\n",
       "      <td>0.570590</td>\n",
       "      <td>0.003161</td>\n",
       "      <td>0.565408</td>\n",
       "      <td>0.004031</td>\n",
       "      <td>0.557521</td>\n",
       "      <td>0.004966</td>\n",
       "      <td>0.550472</td>\n",
       "      <td>0.005664</td>\n",
       "      <td>0.544710</td>\n",
       "    </tr>\n",
       "    <tr>\n",
       "      <th>...</th>\n",
       "      <td>...</td>\n",
       "      <td>...</td>\n",
       "      <td>...</td>\n",
       "      <td>...</td>\n",
       "      <td>...</td>\n",
       "      <td>...</td>\n",
       "      <td>...</td>\n",
       "      <td>...</td>\n",
       "      <td>...</td>\n",
       "      <td>...</td>\n",
       "      <td>...</td>\n",
       "      <td>...</td>\n",
       "      <td>...</td>\n",
       "      <td>...</td>\n",
       "      <td>...</td>\n",
       "      <td>...</td>\n",
       "      <td>...</td>\n",
       "      <td>...</td>\n",
       "      <td>...</td>\n",
       "      <td>...</td>\n",
       "      <td>...</td>\n",
       "    </tr>\n",
       "    <tr>\n",
       "      <th>5963</th>\n",
       "      <td>0.999413</td>\n",
       "      <td>0.017256</td>\n",
       "      <td>0.999596</td>\n",
       "      <td>0.016460</td>\n",
       "      <td>0.999731</td>\n",
       "      <td>0.015651</td>\n",
       "      <td>0.999322</td>\n",
       "      <td>0.019102</td>\n",
       "      <td>0.999654</td>\n",
       "      <td>0.015071</td>\n",
       "      <td>...</td>\n",
       "      <td>0.999890</td>\n",
       "      <td>0.011957</td>\n",
       "      <td>0.999512</td>\n",
       "      <td>0.015399</td>\n",
       "      <td>0.999530</td>\n",
       "      <td>0.016112</td>\n",
       "      <td>0.999758</td>\n",
       "      <td>0.014113</td>\n",
       "      <td>0.999933</td>\n",
       "      <td>0.011475</td>\n",
       "    </tr>\n",
       "    <tr>\n",
       "      <th>5964</th>\n",
       "      <td>0.999581</td>\n",
       "      <td>0.015418</td>\n",
       "      <td>0.999764</td>\n",
       "      <td>0.014527</td>\n",
       "      <td>0.999899</td>\n",
       "      <td>0.013778</td>\n",
       "      <td>0.999491</td>\n",
       "      <td>0.017552</td>\n",
       "      <td>0.999741</td>\n",
       "      <td>0.014165</td>\n",
       "      <td>...</td>\n",
       "      <td>0.999918</td>\n",
       "      <td>0.011541</td>\n",
       "      <td>0.999634</td>\n",
       "      <td>0.014848</td>\n",
       "      <td>0.999647</td>\n",
       "      <td>0.015599</td>\n",
       "      <td>0.999818</td>\n",
       "      <td>0.013711</td>\n",
       "      <td>0.999950</td>\n",
       "      <td>0.011148</td>\n",
       "    </tr>\n",
       "    <tr>\n",
       "      <th>5965</th>\n",
       "      <td>0.999749</td>\n",
       "      <td>0.013575</td>\n",
       "      <td>0.999933</td>\n",
       "      <td>0.012594</td>\n",
       "      <td>0.999933</td>\n",
       "      <td>0.012641</td>\n",
       "      <td>0.999661</td>\n",
       "      <td>0.016002</td>\n",
       "      <td>0.999827</td>\n",
       "      <td>0.013258</td>\n",
       "      <td>...</td>\n",
       "      <td>0.999945</td>\n",
       "      <td>0.011125</td>\n",
       "      <td>0.999756</td>\n",
       "      <td>0.014296</td>\n",
       "      <td>0.999765</td>\n",
       "      <td>0.015086</td>\n",
       "      <td>0.999879</td>\n",
       "      <td>0.013310</td>\n",
       "      <td>0.999967</td>\n",
       "      <td>0.010820</td>\n",
       "    </tr>\n",
       "    <tr>\n",
       "      <th>5966</th>\n",
       "      <td>0.999916</td>\n",
       "      <td>0.011743</td>\n",
       "      <td>0.999966</td>\n",
       "      <td>0.011446</td>\n",
       "      <td>0.999966</td>\n",
       "      <td>0.011503</td>\n",
       "      <td>0.999830</td>\n",
       "      <td>0.014452</td>\n",
       "      <td>0.999914</td>\n",
       "      <td>0.012352</td>\n",
       "      <td>...</td>\n",
       "      <td>0.999973</td>\n",
       "      <td>0.010710</td>\n",
       "      <td>0.999878</td>\n",
       "      <td>0.013744</td>\n",
       "      <td>0.999882</td>\n",
       "      <td>0.014573</td>\n",
       "      <td>0.999939</td>\n",
       "      <td>0.012909</td>\n",
       "      <td>0.999983</td>\n",
       "      <td>0.010493</td>\n",
       "    </tr>\n",
       "    <tr>\n",
       "      <th>5967</th>\n",
       "      <td>1.000000</td>\n",
       "      <td>0.010346</td>\n",
       "      <td>1.000000</td>\n",
       "      <td>0.010297</td>\n",
       "      <td>1.000000</td>\n",
       "      <td>0.010366</td>\n",
       "      <td>1.000000</td>\n",
       "      <td>0.012902</td>\n",
       "      <td>1.000000</td>\n",
       "      <td>0.011445</td>\n",
       "      <td>...</td>\n",
       "      <td>1.000000</td>\n",
       "      <td>0.010294</td>\n",
       "      <td>1.000000</td>\n",
       "      <td>0.013193</td>\n",
       "      <td>1.000000</td>\n",
       "      <td>0.014060</td>\n",
       "      <td>1.000000</td>\n",
       "      <td>0.012508</td>\n",
       "      <td>1.000000</td>\n",
       "      <td>0.010165</td>\n",
       "    </tr>\n",
       "  </tbody>\n",
       "</table>\n",
       "<p>5968 rows × 28 columns</p>\n",
       "</div>"
      ],
      "text/plain": [
       "       T0.0005  Vf0.0005    T0.001   Vf0.001   T0.0015  Vf0.0015    T0.002  \\\n",
       "0     0.000168  0.596682  0.000337  0.593692  0.000504  0.591560  0.000678   \n",
       "1     0.000335  0.596048  0.000505  0.593119  0.000672  0.591023  0.000848   \n",
       "2     0.000503  0.595473  0.000673  0.592546  0.000840  0.590486  0.001018   \n",
       "3     0.000670  0.594941  0.000842  0.592045  0.001007  0.589949  0.001187   \n",
       "4     0.000838  0.594460  0.001010  0.591544  0.001175  0.589470  0.001357   \n",
       "...        ...       ...       ...       ...       ...       ...       ...   \n",
       "5963  0.999413  0.017256  0.999596  0.016460  0.999731  0.015651  0.999322   \n",
       "5964  0.999581  0.015418  0.999764  0.014527  0.999899  0.013778  0.999491   \n",
       "5965  0.999749  0.013575  0.999933  0.012594  0.999933  0.012641  0.999661   \n",
       "5966  0.999916  0.011743  0.999966  0.011446  0.999966  0.011503  0.999830   \n",
       "5967  1.000000  0.010346  1.000000  0.010297  1.000000  0.010366  1.000000   \n",
       "\n",
       "       Vf0.002   T0.0025  Vf0.0025  ...    T0.005   Vf0.005    T0.006  \\\n",
       "0     0.588229  0.000864  0.585620  ...  0.001987  0.572240  0.002495   \n",
       "1     0.587705  0.001037  0.585103  ...  0.002153  0.571828  0.002662   \n",
       "2     0.587182  0.001210  0.584586  ...  0.002319  0.571415  0.002828   \n",
       "3     0.586658  0.001382  0.584070  ...  0.002484  0.571003  0.002995   \n",
       "4     0.586135  0.001555  0.583553  ...  0.002650  0.570590  0.003161   \n",
       "...        ...       ...       ...  ...       ...       ...       ...   \n",
       "5963  0.019102  0.999654  0.015071  ...  0.999890  0.011957  0.999512   \n",
       "5964  0.017552  0.999741  0.014165  ...  0.999918  0.011541  0.999634   \n",
       "5965  0.016002  0.999827  0.013258  ...  0.999945  0.011125  0.999756   \n",
       "5966  0.014452  0.999914  0.012352  ...  0.999973  0.010710  0.999878   \n",
       "5967  0.012902  1.000000  0.011445  ...  1.000000  0.010294  1.000000   \n",
       "\n",
       "       Vf0.006   T0.0075  Vf0.0075    T0.009   Vf0.009     T0.01    Vf0.01  \n",
       "0     0.566950  0.003359  0.558938  0.004304  0.551740  0.004998  0.545902  \n",
       "1     0.566565  0.003527  0.558584  0.004469  0.551423  0.005164  0.545604  \n",
       "2     0.566179  0.003695  0.558230  0.004635  0.551106  0.005331  0.545306  \n",
       "3     0.565794  0.003863  0.557876  0.004800  0.550789  0.005497  0.545008  \n",
       "4     0.565408  0.004031  0.557521  0.004966  0.550472  0.005664  0.544710  \n",
       "...        ...       ...       ...       ...       ...       ...       ...  \n",
       "5963  0.015399  0.999530  0.016112  0.999758  0.014113  0.999933  0.011475  \n",
       "5964  0.014848  0.999647  0.015599  0.999818  0.013711  0.999950  0.011148  \n",
       "5965  0.014296  0.999765  0.015086  0.999879  0.013310  0.999967  0.010820  \n",
       "5966  0.013744  0.999882  0.014573  0.999939  0.012909  0.999983  0.010493  \n",
       "5967  0.013193  1.000000  0.014060  1.000000  0.012508  1.000000  0.010165  \n",
       "\n",
       "[5968 rows x 28 columns]"
      ]
     },
     "execution_count": 76,
     "metadata": {},
     "output_type": "execute_result"
    }
   ],
   "source": [
    "gcd.discharging_stretched"
   ]
  },
  {
   "cell_type": "markdown",
   "id": "af28e9ea-5be4-4693-9bec-66a0ebc9e7e3",
   "metadata": {
    "tags": []
   },
   "source": [
    "## <font color = '#FF9933'> EIS Tests </font>"
   ]
  },
  {
   "cell_type": "code",
   "execution_count": null,
   "id": "05e56d8e-31d4-40c3-8028-e3bc790f2dfa",
   "metadata": {},
   "outputs": [],
   "source": [
    "file = r'test_data/EIS.xlsx'\n",
    "eis = EIS()\n",
    "eis.from_excel(file)\n",
    "eis.eis"
   ]
  },
  {
   "cell_type": "code",
   "execution_count": null,
   "id": "8490cd7a-9be0-442b-9be9-29d7c1ff1e48",
   "metadata": {},
   "outputs": [],
   "source": [
    "height = 4 \n",
    "import matplotlib as mpl\n",
    "fig, ax0 = plt.subplots(figsize=(height, height))\n",
    "ecp.ploteis(ax0, eis.eis['Zreal'], -eis.eis['Zimag'], xlim = [0,550], ylim = [0,550])"
   ]
  },
  {
   "cell_type": "code",
   "execution_count": null,
   "id": "f6290ec1-302b-468b-8194-605084946fdf",
   "metadata": {},
   "outputs": [],
   "source": [
    "eis.eis_fitting()"
   ]
  },
  {
   "cell_type": "code",
   "execution_count": null,
   "id": "b74d1c2d-fa6d-4239-ab0f-85f006c157fd",
   "metadata": {},
   "outputs": [],
   "source": [
    "eis.circuit_fit"
   ]
  },
  {
   "cell_type": "markdown",
   "id": "2f64452e-3804-48f7-8016-c385244e7913",
   "metadata": {
    "tags": []
   },
   "source": [
    "## <font color = '#FF9933'> Regression Tests </font>"
   ]
  },
  {
   "cell_type": "code",
   "execution_count": null,
   "id": "a6b4d7ea-bb16-4d37-a776-21ac3aebd5fd",
   "metadata": {},
   "outputs": [],
   "source": [
    "#fig, (ax1, ax2) = plt.subplots(2)\n",
    "ax1 = plt.subplot2grid((2, 4), (0, 0), colspan=2)\n",
    "ax2 = plt.subplot2grid((2, 4), (0, 2), colspan=2) \n",
    " \n",
    "ecp.plotreg_param( (ax1, ax2), cv.voltages, cv.quad_reg_params, cycler = cycler , legend_dic = dict(loc= 3, ncol= 3, frameon=False))"
   ]
  },
  {
   "cell_type": "markdown",
   "id": "49370361-7372-402c-8f6c-33d8339b952c",
   "metadata": {
    "tags": []
   },
   "source": [
    "## <font color = '#FF9933'> Residual Tests </font>"
   ]
  },
  {
   "cell_type": "code",
   "execution_count": null,
   "id": "f52c1c06-354a-4cc8-9e9c-fad43cd34c13",
   "metadata": {},
   "outputs": [],
   "source": []
  }
 ],
 "metadata": {
  "kernelspec": {
   "display_name": "Python 3 (ipykernel)",
   "language": "python",
   "name": "python3"
  },
  "language_info": {
   "codemirror_mode": {
    "name": "ipython",
    "version": 3
   },
   "file_extension": ".py",
   "mimetype": "text/x-python",
   "name": "python",
   "nbconvert_exporter": "python",
   "pygments_lexer": "ipython3",
   "version": "3.8.8"
  }
 },
 "nbformat": 4,
 "nbformat_minor": 5
}
